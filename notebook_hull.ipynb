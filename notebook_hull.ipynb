{
 "cells": [
  {
   "cell_type": "markdown",
   "id": "f2da98d6",
   "metadata": {},
   "source": [
    "# 1. Motivations\n",
    "The point of this notebook is to illustrate everything that I feel the need to illustrate when I come across it on John Hull's book $\\textit{Options, futures and other derivatives}$. I hope this file will enlighten every one who founds it, but I especially hope it will englighten me.\n",
    "Also note that I'm a frenchman, and this notebook is also a way for me to familiarize with the english names. Thereby I already appologize if there is any unconventional notation (I doubt that, I believe the translator of the book did a good job) or any english errors throughout all of this\n",
    "document.\n",
    "\n",
    "The organisation of this notebook isn't define nor definitive, but for now I guess it will be pretty linear compared to the book.\n",
    "\n",
    "The author is myself, Antonin Fournera. If you have any remarks, questions, really anything to say about my work, don't heistate to reach out to me via my mail fourneraa@gmail.com, I'll reply."
   ]
  },
  {
   "cell_type": "markdown",
   "id": "e204d05b",
   "metadata": {},
   "source": [
    "# Chap 5 : arround futures pricing\n",
    "This section is pretty small and will cover chapter 1, 2 and 5. The point is to see the impact of different OIS rates on no arbitrage\n",
    "futures prices, but also to illustrate cost-of-carry, the difference between futures and forwards and how to use futures to hedge spot\n",
    "exposure."
   ]
  },
  {
   "cell_type": "markdown",
   "id": "0a3e2389",
   "metadata": {},
   "source": [
    "## Imports of useful modules, constants and functions"
   ]
  },
  {
   "cell_type": "markdown",
   "id": "9fd87a75",
   "metadata": {},
   "source": [
    "### Modules"
   ]
  },
  {
   "cell_type": "code",
   "execution_count": null,
   "id": "80079251",
   "metadata": {},
   "outputs": [],
   "source": [
    "import math as ma\n",
    "import numpy as np"
   ]
  },
  {
   "cell_type": "markdown",
   "id": "b852b7f8",
   "metadata": {},
   "source": [
    "### Functions"
   ]
  },
  {
   "cell_type": "code",
   "execution_count": null,
   "id": "657df374",
   "metadata": {},
   "outputs": [],
   "source": [
    "\n",
    "def th_futures_price(S, T, r, q):\n",
    "    \"\"\"\n",
    "    We use the continuous cost-of-cary formula :\n",
    "        f = S_0*exp((r - q)*T) where :\n",
    "    S: current spot\n",
    "    r: continuously compound\n",
    "    q: continuous dividend yield (or storage cost   as negative)\n",
    "    T: time to maturity\n",
    "    \"\"\"\n",
    "    return(S*np.exp((r - q)*T))\n",
    "\n"
   ]
  }
 ],
 "metadata": {
  "kernelspec": {
   "display_name": "hull",
   "language": "python",
   "name": "python3"
  },
  "language_info": {
   "codemirror_mode": {
    "name": "ipython",
    "version": 3
   },
   "file_extension": ".py",
   "mimetype": "text/x-python",
   "name": "python",
   "nbconvert_exporter": "python",
   "pygments_lexer": "ipython3",
   "version": "3.13.7"
  }
 },
 "nbformat": 4,
 "nbformat_minor": 5
}
